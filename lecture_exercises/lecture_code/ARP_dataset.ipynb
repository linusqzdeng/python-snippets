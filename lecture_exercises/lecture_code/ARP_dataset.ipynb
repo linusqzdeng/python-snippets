{
 "metadata": {
  "language_info": {
   "codemirror_mode": {
    "name": "ipython",
    "version": 3
   },
   "file_extension": ".py",
   "mimetype": "text/x-python",
   "name": "python",
   "nbconvert_exporter": "python",
   "pygments_lexer": "ipython3",
   "version": "3.8.8"
  },
  "orig_nbformat": 4,
  "kernelspec": {
   "name": "python3",
   "display_name": "Python 3.8.8 64-bit ('pyfinance': conda)"
  },
  "interpreter": {
   "hash": "aa2a76ff1d502f6d0371ca95b6c2a399f3dfd324b42874e8dc720c235d65d199"
  }
 },
 "nbformat": 4,
 "nbformat_minor": 2,
 "cells": [
  {
   "cell_type": "code",
   "execution_count": 1,
   "metadata": {},
   "outputs": [],
   "source": [
    "import pandas as pd\n",
    "import numpy as np\n",
    "import datetime as dt"
   ]
  },
  {
   "cell_type": "code",
   "execution_count": 2,
   "metadata": {},
   "outputs": [
    {
     "output_type": "stream",
     "name": "stderr",
     "text": [
      "/opt/homebrew/Caskroom/miniforge/base/envs/pyfinance/lib/python3.8/site-packages/openpyxl/worksheet/header_footer.py:48: UserWarning: Cannot parse header or footer so it will be ignored\n  warn(\"\"\"Cannot parse header or footer so it will be ignored\"\"\")\n"
     ]
    },
    {
     "output_type": "execute_result",
     "data": {
      "text/plain": [
       "   PERMNO  Date Announced                     Target Name  \\\n",
       "0   87162        20131212              Colonial Gifts Ltd   \n",
       "1   87162        20080430             DesignPac Gifts LLC   \n",
       "2   87162        20060405       Fannie May Candy Shops IL   \n",
       "3   87162        20140902      Harry & David Holdings Inc   \n",
       "4   89270        20130815  Rumson-Fair Haven Bank & Trust   \n",
       "\n",
       "              Acquiror Name Number of Acquiror Financial Advisors  \\\n",
       "0     1-800-Flowers.com Inc                                     .   \n",
       "1     1-800-Flowers.com Inc                                     .   \n",
       "2     1-800-Flowers.com Inc                                     1   \n",
       "3     1-800-Flowers.com Inc                                     1   \n",
       "4  1st Constitution Bancorp                                     1   \n",
       "\n",
       "  Acquiror is a Leverage Buyout Firm  Original Date Announced Date Effective  \\\n",
       "0                                 No                 20131212       20131212   \n",
       "1                                 No                 20080430       20080430   \n",
       "2                                 No                 20060405       20060503   \n",
       "3                                 No                 20140902       20140930   \n",
       "4                                 No                 20130815       20140207   \n",
       "\n",
       "  Debt Offer Flag Percentage of consideration paid in cash  ...  \\\n",
       "0               N                                        .  ...   \n",
       "1               N                                      100  ...   \n",
       "2               N                                      100  ...   \n",
       "3               N                                      100  ...   \n",
       "4               N                                       60  ...   \n",
       "\n",
       "  Abnormal Return 0 Abnormal Return 1 CAR(-2,2) crossborderdeal cashpayment  \\\n",
       "0         -0.005748         -0.009114  0.009858               0           0   \n",
       "1         -0.003837         -0.006476 -0.034374               1           1   \n",
       "2         -0.013597          0.004169 -0.015071               1           1   \n",
       "3          0.160565          0.051567  0.146537               1           1   \n",
       "4          0.024956          0.007676  0.048450               1           0   \n",
       "\n",
       "  Acquiror Market Value 4 Weeks Prior to Announcement ($mil).1  \\\n",
       "0                                            140.433             \n",
       "1                                            555.630             \n",
       "2                                            426.282             \n",
       "3                                            330.046             \n",
       "4                                             57.730             \n",
       "\n",
       "  Target Market Value 4 Weeks Prior to Announcment ($mil).1 booktomarket  \\\n",
       "0                                                  .            0.523412   \n",
       "1                                                  .            0.398352   \n",
       "2                                                  .            0.456921   \n",
       "3                                            137.544            0.492916   \n",
       "4                                                  .            1.146136   \n",
       "\n",
       "  operatingcashflow  leverage  \n",
       "0         -0.204535  0.456346  \n",
       "1          0.157899  0.452188  \n",
       "2          0.123176  0.344419  \n",
       "3          0.158983  0.304411  \n",
       "4          0.017622  0.918901  \n",
       "\n",
       "[5 rows x 136 columns]"
      ],
      "text/html": "<div>\n<style scoped>\n    .dataframe tbody tr th:only-of-type {\n        vertical-align: middle;\n    }\n\n    .dataframe tbody tr th {\n        vertical-align: top;\n    }\n\n    .dataframe thead th {\n        text-align: right;\n    }\n</style>\n<table border=\"1\" class=\"dataframe\">\n  <thead>\n    <tr style=\"text-align: right;\">\n      <th></th>\n      <th>PERMNO</th>\n      <th>Date Announced</th>\n      <th>Target Name</th>\n      <th>Acquiror Name</th>\n      <th>Number of Acquiror Financial Advisors</th>\n      <th>Acquiror is a Leverage Buyout Firm</th>\n      <th>Original Date Announced</th>\n      <th>Date Effective</th>\n      <th>Debt Offer Flag</th>\n      <th>Percentage of consideration paid in cash</th>\n      <th>...</th>\n      <th>Abnormal Return 0</th>\n      <th>Abnormal Return 1</th>\n      <th>CAR(-2,2)</th>\n      <th>crossborderdeal</th>\n      <th>cashpayment</th>\n      <th>Acquiror Market Value 4 Weeks Prior to Announcement ($mil).1</th>\n      <th>Target Market Value 4 Weeks Prior to Announcment ($mil).1</th>\n      <th>booktomarket</th>\n      <th>operatingcashflow</th>\n      <th>leverage</th>\n    </tr>\n  </thead>\n  <tbody>\n    <tr>\n      <th>0</th>\n      <td>87162</td>\n      <td>20131212</td>\n      <td>Colonial Gifts Ltd</td>\n      <td>1-800-Flowers.com Inc</td>\n      <td>.</td>\n      <td>No</td>\n      <td>20131212</td>\n      <td>20131212</td>\n      <td>N</td>\n      <td>.</td>\n      <td>...</td>\n      <td>-0.005748</td>\n      <td>-0.009114</td>\n      <td>0.009858</td>\n      <td>0</td>\n      <td>0</td>\n      <td>140.433</td>\n      <td>.</td>\n      <td>0.523412</td>\n      <td>-0.204535</td>\n      <td>0.456346</td>\n    </tr>\n    <tr>\n      <th>1</th>\n      <td>87162</td>\n      <td>20080430</td>\n      <td>DesignPac Gifts LLC</td>\n      <td>1-800-Flowers.com Inc</td>\n      <td>.</td>\n      <td>No</td>\n      <td>20080430</td>\n      <td>20080430</td>\n      <td>N</td>\n      <td>100</td>\n      <td>...</td>\n      <td>-0.003837</td>\n      <td>-0.006476</td>\n      <td>-0.034374</td>\n      <td>1</td>\n      <td>1</td>\n      <td>555.630</td>\n      <td>.</td>\n      <td>0.398352</td>\n      <td>0.157899</td>\n      <td>0.452188</td>\n    </tr>\n    <tr>\n      <th>2</th>\n      <td>87162</td>\n      <td>20060405</td>\n      <td>Fannie May Candy Shops IL</td>\n      <td>1-800-Flowers.com Inc</td>\n      <td>1</td>\n      <td>No</td>\n      <td>20060405</td>\n      <td>20060503</td>\n      <td>N</td>\n      <td>100</td>\n      <td>...</td>\n      <td>-0.013597</td>\n      <td>0.004169</td>\n      <td>-0.015071</td>\n      <td>1</td>\n      <td>1</td>\n      <td>426.282</td>\n      <td>.</td>\n      <td>0.456921</td>\n      <td>0.123176</td>\n      <td>0.344419</td>\n    </tr>\n    <tr>\n      <th>3</th>\n      <td>87162</td>\n      <td>20140902</td>\n      <td>Harry &amp; David Holdings Inc</td>\n      <td>1-800-Flowers.com Inc</td>\n      <td>1</td>\n      <td>No</td>\n      <td>20140902</td>\n      <td>20140930</td>\n      <td>N</td>\n      <td>100</td>\n      <td>...</td>\n      <td>0.160565</td>\n      <td>0.051567</td>\n      <td>0.146537</td>\n      <td>1</td>\n      <td>1</td>\n      <td>330.046</td>\n      <td>137.544</td>\n      <td>0.492916</td>\n      <td>0.158983</td>\n      <td>0.304411</td>\n    </tr>\n    <tr>\n      <th>4</th>\n      <td>89270</td>\n      <td>20130815</td>\n      <td>Rumson-Fair Haven Bank &amp; Trust</td>\n      <td>1st Constitution Bancorp</td>\n      <td>1</td>\n      <td>No</td>\n      <td>20130815</td>\n      <td>20140207</td>\n      <td>N</td>\n      <td>60</td>\n      <td>...</td>\n      <td>0.024956</td>\n      <td>0.007676</td>\n      <td>0.048450</td>\n      <td>1</td>\n      <td>0</td>\n      <td>57.730</td>\n      <td>.</td>\n      <td>1.146136</td>\n      <td>0.017622</td>\n      <td>0.918901</td>\n    </tr>\n  </tbody>\n</table>\n<p>5 rows × 136 columns</p>\n</div>"
     },
     "metadata": {},
     "execution_count": 2
    }
   ],
   "source": [
    "dataset = pd.read_excel(\"/Users/linus/Documents/Learning Files/Cass/Term 3/SMM799 ARP/mas_car_00_18_2019_adjusted.xlsx\")\n",
    "dataset.head()"
   ]
  },
  {
   "cell_type": "code",
   "execution_count": 3,
   "metadata": {},
   "outputs": [
    {
     "output_type": "stream",
     "name": "stdout",
     "text": [
      "PERMNO\nDate Announced\nTarget Name\nAcquiror Name\nNumber of Acquiror Financial Advisors\nAcquiror is a Leverage Buyout Firm\nOriginal Date Announced\nDate Effective\nDebt Offer Flag\nPercentage of consideration paid in cash\nPercentage of consideration which is unknown\nPercentage of Shares Acquired\nPercentage of Shares Owned After Transaction\nPercentage of Shares Sought\nPercentage of Shares Acquiror is Seeking to Own After Transaction\nRumored Deal Flag\nSecondary Buyout Flag\nSource of Funds Borrowing Flag\nFinancing via Bridge Loan Flag\nSource of Funds Common Stock Issue Flag\nFinancing via Internal Corporate Funds Flag\nFinancing via Debt Securities Flag\nFinancing via Foreign Lender Flag\nFinancing via Junk Bond Flag\nFinancing via Line of Credit Flag\nFinancing via Mezzanine Credit Flag\nFinancing via Preferred Stock Offering Flag\nFinancing via Rights Offering Flag\nFinancing via Staple Offering Flag\nDeal Status\nDeal is a Tender Offer Flag\nTarget Legal Advisor Nation Code\nDeal is a Tender Merger Flag\nValue is Estimated Flag\nAcquiror CUSIP\nAcquiror Ultimate Parent Name\nAcquiror Mid Industry Description\nTarget Mid Industry Description\nAcquiror Macro Industry Description\nTarget Macro Industry Description\nEnterprise Value ($mil)\nEquity Value ($mil)\nPrice Per Share\nTarget Sales LTM ($mil)\nTarget EBIT LTM ($mil)\nTarget Pre-Tax Income LTM ($mil)\nTarget Net Income LTM ($mil)\nTarget Net Assets ($mil)\nTarget Total Assets ($mil)\nTarget Cash Flow LTM ($mil)\nTarget Book Value ($mil)\nTarget Common Equity ($mil)\nTarget Earnings Per Share ($mil)\nRatio of Offer Price to Earnings Per Share\nTarget Financial Advisor Fees ($mil)\nAcquiror Financial Advisor Feesx ($mil)\nTotal Financial Advisor Fees ($mil)\nTarget Closing Stock Price 1 day Prior to Deal Announcement Day\nTarget Closing Stock Price 1 weel Prior to Deal Announcement Day\nTarget Closing Stock Price 4 weeks Prior to Deal Announcement Day\nRatio of Rankvalue to Sales\nRatio of Rankvalue to EBIT\nRatio of Rankvalue to Cash Flow\nRatio of Rankvalue to Net Income\nRatio of Enterprise Value to Sales\nRatio of Enterprise Value to EBIT\nRatio of Enterprise Value to Cash Flow\nRatio of Enterprise Value to Net Income\nRatio of Equity Value to Sales\nRatio of Equity Value to EBIT\nRatio of Equity Value to Cash Flow\nRatio of Equity Value to Net Income\nOffer Price to Target Stock Price Premium - 1 Day Prior to Announcement\nOffer Price to Target Stock Price Premium - 1 WeekPrior to Announcement\nOffer Price to Target Stock Price Premium - 4  Weeks Prior to Announcement\nFinancing Out Yes\nNo\nStandard and Poor's Identifier\nData Date\nFiscal Year\nFiscal Quarter\nHistorical CRSP PERMNO Link to COMPUSTAT Record\nCompany Name\nStock Exchange Code\nFiscal Year-end Month\nCurrent ISO Country Code - Incorporation\nAssets - Total\nCommon\nOrdinary Equity - Total\nIncome Before Extraordinary Items\nCurrent Liabilities - Total\nLong-Term Liabilities (Total)\nLiabilities - Total\nIncome Taxes - Total\nIncome Before Extraordinary Items - Statement of Cash Flows\nIncome Before Extraordinary Items.1\nOperating Activities - Net Cash Flow\nIncome Taxes - Total.1\nMarket Value - Total\nLevel of Consolidation - Company Interim Descriptor\nIndustry Format\nData Format\nPopulation Source\nFiscal Data Year and Quarter\nCalendar Data Year and Quarter\nISO Currency Code\nActive\nInactive Status Marker\nPERMNO.1\nDate Announced.1\nyear\nTarget Name.1\nAcquiror Name.1\nStandard Industry Classification Code\nTSICP\nSame_industry\nAcquiror Market Value 4 Weeks Prior to Announcement ($mil)\nDeal Attitude\nConsideration Sought\nTarget Market Value 4 Weeks Prior to Announcment ($mil)\nANATION\nANATIONCODE\nTNATION\nTNATIONCODE\nTPUBLIC\nAPUBLIC\nTTICKER\nCAR(-1,+1) \nAbnormal Return -1\nAbnormal Return 0\nAbnormal Return 1\nCAR(-2,2)\ncrossborderdeal\ncashpayment\nAcquiror Market Value 4 Weeks Prior to Announcement ($mil).1\nTarget Market Value 4 Weeks Prior to Announcment ($mil).1\nbooktomarket\noperatingcashflow\nleverage\n"
     ]
    }
   ],
   "source": [
    "for col in dataset.columns:\n",
    "    print(col)"
   ]
  },
  {
   "cell_type": "code",
   "execution_count": 19,
   "metadata": {},
   "outputs": [
    {
     "output_type": "stream",
     "name": "stderr",
     "text": [
      "/var/folders/cy/wbszg83n5pxb81lvyj7m11rm0000gn/T/ipykernel_60316/2993538944.py:2: SettingWithCopyWarning: \nA value is trying to be set on a copy of a slice from a DataFrame.\nTry using .loc[row_indexer,col_indexer] = value instead\n\nSee the caveats in the documentation: https://pandas.pydata.org/pandas-docs/stable/user_guide/indexing.html#returning-a-view-versus-a-copy\n  df['Date (years)'] = pd.to_datetime(df['Date Announced'], format=\"%Y%m%d\").dt.year\n"
     ]
    },
    {
     "output_type": "execute_result",
     "data": {
      "text/plain": [
       "                                                  Date Announced\n",
       "Date (years) Target Mid Industry Description                    \n",
       "2005         Automobiles & Components               2.005116e+07\n",
       "             Building/Construction & Engineering    2.005121e+07\n",
       "             Computers & Peripherals                2.005122e+07\n",
       "             Construction Materials                 2.005113e+07\n",
       "             Healthcare Equipment & Supplies        2.005112e+07\n",
       "...                                                          ...\n",
       "2017         Semiconductors                         2.017121e+07\n",
       "             Software                               2.017064e+07\n",
       "             Telecommunications Services            2.017082e+07\n",
       "             Transportation & Infrastructure        2.017121e+07\n",
       "             Water and Waste Management             2.017120e+07\n",
       "\n",
       "[880 rows x 1 columns]"
      ],
      "text/html": "<div>\n<style scoped>\n    .dataframe tbody tr th:only-of-type {\n        vertical-align: middle;\n    }\n\n    .dataframe tbody tr th {\n        vertical-align: top;\n    }\n\n    .dataframe thead th {\n        text-align: right;\n    }\n</style>\n<table border=\"1\" class=\"dataframe\">\n  <thead>\n    <tr style=\"text-align: right;\">\n      <th></th>\n      <th></th>\n      <th>Date Announced</th>\n    </tr>\n    <tr>\n      <th>Date (years)</th>\n      <th>Target Mid Industry Description</th>\n      <th></th>\n    </tr>\n  </thead>\n  <tbody>\n    <tr>\n      <th rowspan=\"5\" valign=\"top\">2005</th>\n      <th>Automobiles &amp; Components</th>\n      <td>2.005116e+07</td>\n    </tr>\n    <tr>\n      <th>Building/Construction &amp; Engineering</th>\n      <td>2.005121e+07</td>\n    </tr>\n    <tr>\n      <th>Computers &amp; Peripherals</th>\n      <td>2.005122e+07</td>\n    </tr>\n    <tr>\n      <th>Construction Materials</th>\n      <td>2.005113e+07</td>\n    </tr>\n    <tr>\n      <th>Healthcare Equipment &amp; Supplies</th>\n      <td>2.005112e+07</td>\n    </tr>\n    <tr>\n      <th>...</th>\n      <th>...</th>\n      <td>...</td>\n    </tr>\n    <tr>\n      <th rowspan=\"5\" valign=\"top\">2017</th>\n      <th>Semiconductors</th>\n      <td>2.017121e+07</td>\n    </tr>\n    <tr>\n      <th>Software</th>\n      <td>2.017064e+07</td>\n    </tr>\n    <tr>\n      <th>Telecommunications Services</th>\n      <td>2.017082e+07</td>\n    </tr>\n    <tr>\n      <th>Transportation &amp; Infrastructure</th>\n      <td>2.017121e+07</td>\n    </tr>\n    <tr>\n      <th>Water and Waste Management</th>\n      <td>2.017120e+07</td>\n    </tr>\n  </tbody>\n</table>\n<p>880 rows × 1 columns</p>\n</div>"
     },
     "metadata": {},
     "execution_count": 19
    }
   ],
   "source": [
    "df = dataset[['Date Announced', 'Target Mid Industry Description', 'Acquiror Name', 'Target Name']]\n",
    "df['Date (years)'] = pd.to_datetime(df['Date Announced'], format=\"%Y%m%d\").dt.year\n",
    "df.groupby(['Date (years)', 'Target Mid Industry Description']).mean()"
   ]
  },
  {
   "cell_type": "code",
   "execution_count": 18,
   "metadata": {},
   "outputs": [
    {
     "output_type": "error",
     "ename": "KeyError",
     "evalue": "'CAR(-1,+1)'",
     "traceback": [
      "\u001b[0;31m---------------------------------------------------------------------------\u001b[0m",
      "\u001b[0;31mKeyError\u001b[0m                                  Traceback (most recent call last)",
      "\u001b[0;32m/opt/homebrew/Caskroom/miniforge/base/envs/pyfinance/lib/python3.8/site-packages/pandas/core/indexes/base.py\u001b[0m in \u001b[0;36mget_loc\u001b[0;34m(self, key, method, tolerance)\u001b[0m\n\u001b[1;32m   3079\u001b[0m             \u001b[0;32mtry\u001b[0m\u001b[0;34m:\u001b[0m\u001b[0;34m\u001b[0m\u001b[0;34m\u001b[0m\u001b[0m\n\u001b[0;32m-> 3080\u001b[0;31m                 \u001b[0;32mreturn\u001b[0m \u001b[0mself\u001b[0m\u001b[0;34m.\u001b[0m\u001b[0m_engine\u001b[0m\u001b[0;34m.\u001b[0m\u001b[0mget_loc\u001b[0m\u001b[0;34m(\u001b[0m\u001b[0mcasted_key\u001b[0m\u001b[0;34m)\u001b[0m\u001b[0;34m\u001b[0m\u001b[0;34m\u001b[0m\u001b[0m\n\u001b[0m\u001b[1;32m   3081\u001b[0m             \u001b[0;32mexcept\u001b[0m \u001b[0mKeyError\u001b[0m \u001b[0;32mas\u001b[0m \u001b[0merr\u001b[0m\u001b[0;34m:\u001b[0m\u001b[0;34m\u001b[0m\u001b[0;34m\u001b[0m\u001b[0m\n",
      "\u001b[0;32mpandas/_libs/index.pyx\u001b[0m in \u001b[0;36mpandas._libs.index.IndexEngine.get_loc\u001b[0;34m()\u001b[0m\n",
      "\u001b[0;32mpandas/_libs/index.pyx\u001b[0m in \u001b[0;36mpandas._libs.index.IndexEngine.get_loc\u001b[0;34m()\u001b[0m\n",
      "\u001b[0;32mpandas/_libs/hashtable_class_helper.pxi\u001b[0m in \u001b[0;36mpandas._libs.hashtable.PyObjectHashTable.get_item\u001b[0;34m()\u001b[0m\n",
      "\u001b[0;32mpandas/_libs/hashtable_class_helper.pxi\u001b[0m in \u001b[0;36mpandas._libs.hashtable.PyObjectHashTable.get_item\u001b[0;34m()\u001b[0m\n",
      "\u001b[0;31mKeyError\u001b[0m: 'CAR(-1,+1)'",
      "\nThe above exception was the direct cause of the following exception:\n",
      "\u001b[0;31mKeyError\u001b[0m                                  Traceback (most recent call last)",
      "\u001b[0;32m/var/folders/cy/wbszg83n5pxb81lvyj7m11rm0000gn/T/ipykernel_60316/1910473374.py\u001b[0m in \u001b[0;36m<module>\u001b[0;34m\u001b[0m\n\u001b[0;32m----> 1\u001b[0;31m \u001b[0mdataset\u001b[0m\u001b[0;34m[\u001b[0m\u001b[0;34m'CAR(-1,+1)'\u001b[0m\u001b[0;34m]\u001b[0m\u001b[0;34m\u001b[0m\u001b[0;34m\u001b[0m\u001b[0m\n\u001b[0m",
      "\u001b[0;32m/opt/homebrew/Caskroom/miniforge/base/envs/pyfinance/lib/python3.8/site-packages/pandas/core/frame.py\u001b[0m in \u001b[0;36m__getitem__\u001b[0;34m(self, key)\u001b[0m\n\u001b[1;32m   3022\u001b[0m             \u001b[0;32mif\u001b[0m \u001b[0mself\u001b[0m\u001b[0;34m.\u001b[0m\u001b[0mcolumns\u001b[0m\u001b[0;34m.\u001b[0m\u001b[0mnlevels\u001b[0m \u001b[0;34m>\u001b[0m \u001b[0;36m1\u001b[0m\u001b[0;34m:\u001b[0m\u001b[0;34m\u001b[0m\u001b[0;34m\u001b[0m\u001b[0m\n\u001b[1;32m   3023\u001b[0m                 \u001b[0;32mreturn\u001b[0m \u001b[0mself\u001b[0m\u001b[0;34m.\u001b[0m\u001b[0m_getitem_multilevel\u001b[0m\u001b[0;34m(\u001b[0m\u001b[0mkey\u001b[0m\u001b[0;34m)\u001b[0m\u001b[0;34m\u001b[0m\u001b[0;34m\u001b[0m\u001b[0m\n\u001b[0;32m-> 3024\u001b[0;31m             \u001b[0mindexer\u001b[0m \u001b[0;34m=\u001b[0m \u001b[0mself\u001b[0m\u001b[0;34m.\u001b[0m\u001b[0mcolumns\u001b[0m\u001b[0;34m.\u001b[0m\u001b[0mget_loc\u001b[0m\u001b[0;34m(\u001b[0m\u001b[0mkey\u001b[0m\u001b[0;34m)\u001b[0m\u001b[0;34m\u001b[0m\u001b[0;34m\u001b[0m\u001b[0m\n\u001b[0m\u001b[1;32m   3025\u001b[0m             \u001b[0;32mif\u001b[0m \u001b[0mis_integer\u001b[0m\u001b[0;34m(\u001b[0m\u001b[0mindexer\u001b[0m\u001b[0;34m)\u001b[0m\u001b[0;34m:\u001b[0m\u001b[0;34m\u001b[0m\u001b[0;34m\u001b[0m\u001b[0m\n\u001b[1;32m   3026\u001b[0m                 \u001b[0mindexer\u001b[0m \u001b[0;34m=\u001b[0m \u001b[0;34m[\u001b[0m\u001b[0mindexer\u001b[0m\u001b[0;34m]\u001b[0m\u001b[0;34m\u001b[0m\u001b[0;34m\u001b[0m\u001b[0m\n",
      "\u001b[0;32m/opt/homebrew/Caskroom/miniforge/base/envs/pyfinance/lib/python3.8/site-packages/pandas/core/indexes/base.py\u001b[0m in \u001b[0;36mget_loc\u001b[0;34m(self, key, method, tolerance)\u001b[0m\n\u001b[1;32m   3080\u001b[0m                 \u001b[0;32mreturn\u001b[0m \u001b[0mself\u001b[0m\u001b[0;34m.\u001b[0m\u001b[0m_engine\u001b[0m\u001b[0;34m.\u001b[0m\u001b[0mget_loc\u001b[0m\u001b[0;34m(\u001b[0m\u001b[0mcasted_key\u001b[0m\u001b[0;34m)\u001b[0m\u001b[0;34m\u001b[0m\u001b[0;34m\u001b[0m\u001b[0m\n\u001b[1;32m   3081\u001b[0m             \u001b[0;32mexcept\u001b[0m \u001b[0mKeyError\u001b[0m \u001b[0;32mas\u001b[0m \u001b[0merr\u001b[0m\u001b[0;34m:\u001b[0m\u001b[0;34m\u001b[0m\u001b[0;34m\u001b[0m\u001b[0m\n\u001b[0;32m-> 3082\u001b[0;31m                 \u001b[0;32mraise\u001b[0m \u001b[0mKeyError\u001b[0m\u001b[0;34m(\u001b[0m\u001b[0mkey\u001b[0m\u001b[0;34m)\u001b[0m \u001b[0;32mfrom\u001b[0m \u001b[0merr\u001b[0m\u001b[0;34m\u001b[0m\u001b[0;34m\u001b[0m\u001b[0m\n\u001b[0m\u001b[1;32m   3083\u001b[0m \u001b[0;34m\u001b[0m\u001b[0m\n\u001b[1;32m   3084\u001b[0m         \u001b[0;32mif\u001b[0m \u001b[0mtolerance\u001b[0m \u001b[0;32mis\u001b[0m \u001b[0;32mnot\u001b[0m \u001b[0;32mNone\u001b[0m\u001b[0;34m:\u001b[0m\u001b[0;34m\u001b[0m\u001b[0;34m\u001b[0m\u001b[0m\n",
      "\u001b[0;31mKeyError\u001b[0m: 'CAR(-1,+1)'"
     ]
    }
   ],
   "source": [
    "dataset['CAR(-1,+1)']"
   ]
  }
 ]
}